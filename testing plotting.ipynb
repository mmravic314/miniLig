{
 "cells": [
  {
   "cell_type": "code",
   "execution_count": null,
   "metadata": {},
   "outputs": [],
   "source": []
  },
  {
   "cell_type": "code",
   "execution_count": 1,
   "metadata": {},
   "outputs": [
    {
     "name": "stdout",
     "output_type": "stream",
     "text": [
      "\n"
     ]
    }
   ],
   "source": [
    "print "
   ]
  },
  {
   "cell_type": "code",
   "execution_count": 2,
   "metadata": {},
   "outputs": [
    {
     "data": {
      "text/plain": [
       "Type help() for interactive help, or help(object) for help about object."
      ]
     },
     "execution_count": 2,
     "metadata": {},
     "output_type": "execute_result"
    }
   ],
   "source": [
    "\n",
    "help\n",
    "\n"
   ]
  },
  {
   "cell_type": "code",
   "execution_count": 3,
   "metadata": {},
   "outputs": [],
   "source": [
    "import matplotlib.pyplot as plt\n",
    "import numpy as np\n",
    "from matplotlib import mlab, cm"
   ]
  },
  {
   "cell_type": "code",
   "execution_count": 4,
   "metadata": {},
   "outputs": [
    {
     "name": "stderr",
     "output_type": "stream",
     "text": [
      "/usr/local/lib/python2.7/site-packages/numpy/ma/core.py:6434: MaskedArrayFutureWarning: In the future the default for ma.maximum.reduce will be axis=0, not the current None, to match np.maximum.reduce. Explicitly pass 0 or None to silence this warning.\n",
      "  return self.reduce(a)\n",
      "/usr/local/lib/python2.7/site-packages/numpy/ma/core.py:6434: MaskedArrayFutureWarning: In the future the default for ma.minimum.reduce will be axis=0, not the current None, to match np.minimum.reduce. Explicitly pass 0 or None to silence this warning.\n",
      "  return self.reduce(a)\n",
      "/System/Library/Frameworks/Python.framework/Versions/2.7/Extras/lib/python/matplotlib/collections.py:608: FutureWarning: elementwise comparison failed; returning scalar instead, but in the future will perform elementwise comparison\n",
      "  if self._edgecolors_original != 'face':\n",
      "/System/Library/Frameworks/Python.framework/Versions/2.7/Extras/lib/python/matplotlib/tight_layout.py:225: UserWarning: tight_layout : falling back to Agg renderer\n",
      "  warnings.warn(\"tight_layout : falling back to Agg renderer\")\n",
      "/System/Library/Frameworks/Python.framework/Versions/2.7/Extras/lib/python/matplotlib/collections.py:548: FutureWarning: elementwise comparison failed; returning scalar instead, but in the future will perform elementwise comparison\n",
      "  if self._edgecolors == 'face':\n"
     ]
    }
   ],
   "source": [
    "delta = 0.5\n",
    "\n",
    "extent = (-3, 4, -4, 3)\n",
    "\n",
    "x = np.arange(-3.0, 4.001, delta)\n",
    "y = np.arange(-4.0, 3.001, delta)\n",
    "X, Y = np.meshgrid(x, y)\n",
    "Z1 = mlab.bivariate_normal(X, Y, 1.0, 1.0, 0.0, 0.0)\n",
    "Z2 = mlab.bivariate_normal(X, Y, 1.5, 0.5, 1, 1)\n",
    "Z = (Z1 - Z2) * 10\n",
    "\n",
    "# Boost the upper limit to avoid truncation errors.\n",
    "levels = np.arange(-2.0, 1.601, 0.4)\n",
    "\n",
    "norm = cm.colors.Normalize(vmax=abs(Z).max(), vmin=-abs(Z).max())\n",
    "cmap = cm.PRGn\n",
    "\n",
    "fig = plt.figure()\n",
    "fig.subplots_adjust(hspace=0.3)\n",
    "\n",
    "\n",
    "plt.subplot(2, 2, 1)\n",
    "\n",
    "cset1 = plt.contourf(X, Y, Z, levels,\n",
    "                     cmap=cm.get_cmap(cmap, len(levels) - 1), norm=norm)\n",
    "# It is not necessary, but for the colormap, we need only the\n",
    "# number of levels minus 1.  To avoid discretization error, use\n",
    "# either this number or a large number such as the default (256).\n",
    "\n",
    "# If we want lines as well as filled regions, we need to call\n",
    "# contour separately; don't try to change the edgecolor or edgewidth\n",
    "# of the polygons in the collections returned by contourf.\n",
    "# Use levels output from previous call to guarantee they are the same.\n",
    "\n",
    "cset2 = plt.contour(X, Y, Z, cset1.levels, colors='k')\n",
    "\n",
    "# We don't really need dashed contour lines to indicate negative\n",
    "# regions, so let's turn them off.\n",
    "\n",
    "for c in cset2.collections:\n",
    "    c.set_linestyle('solid')\n",
    "\n",
    "# It is easier here to make a separate call to contour than\n",
    "# to set up an array of colors and linewidths.\n",
    "# We are making a thick green line as a zero contour.\n",
    "# Specify the zero level as a tuple with only 0 in it.\n",
    "\n",
    "cset3 = plt.contour(X, Y, Z, (0,), colors='g', linewidths=2)\n",
    "plt.title('Filled contours')\n",
    "plt.colorbar(cset1)\n",
    "\n",
    "\n",
    "plt.subplot(2, 2, 2)\n",
    "\n",
    "plt.imshow(Z, extent=extent, cmap=cmap, norm=norm)\n",
    "v = plt.axis()\n",
    "plt.contour(Z, levels, colors='k', origin='upper', extent=extent)\n",
    "plt.axis(v)\n",
    "plt.title(\"Image, origin 'upper'\")\n",
    "\n",
    "plt.subplot(2, 2, 3)\n",
    "\n",
    "plt.imshow(Z, origin='lower', extent=extent, cmap=cmap, norm=norm)\n",
    "v = plt.axis()\n",
    "plt.contour(Z, levels, colors='k', origin='lower', extent=extent)\n",
    "plt.axis(v)\n",
    "plt.title(\"Image, origin 'lower'\")\n",
    "\n",
    "plt.subplot(2, 2, 4)\n",
    "\n",
    "# We will use the interpolation \"nearest\" here to show the actual\n",
    "# image pixels.\n",
    "# Note that the contour lines don't extend to the edge of the box.\n",
    "# This is intentional. The Z values are defined at the center of each\n",
    "# image pixel (each color block on the following subplot), so the\n",
    "# domain that is contoured does not extend beyond these pixel centers.\n",
    "im = plt.imshow(Z, interpolation='nearest', extent=extent,\n",
    "                cmap=cmap, norm=norm)\n",
    "v = plt.axis()\n",
    "plt.contour(Z, levels, colors='k', origin='image', extent=extent)\n",
    "plt.axis(v)\n",
    "ylim = plt.get(plt.gca(), 'ylim')\n",
    "plt.setp(plt.gca(), ylim=ylim[::-1])\n",
    "plt.title(\"Origin from rc, reversed y-axis\")\n",
    "plt.colorbar(im)\n",
    "\n",
    "plt.tight_layout()\n",
    "plt.show()"
   ]
  },
  {
   "cell_type": "code",
   "execution_count": null,
   "metadata": {},
   "outputs": [],
   "source": [
    "import plotly.plotly as py"
   ]
  },
  {
   "cell_type": "code",
   "execution_count": null,
   "metadata": {},
   "outputs": [],
   "source": []
  }
 ],
 "metadata": {
  "kernelspec": {
   "display_name": "Python 2",
   "language": "python",
   "name": "python2"
  },
  "language_info": {
   "codemirror_mode": {
    "name": "ipython",
    "version": 2
   },
   "file_extension": ".py",
   "mimetype": "text/x-python",
   "name": "python",
   "nbconvert_exporter": "python",
   "pygments_lexer": "ipython2",
   "version": "2.7.10"
  }
 },
 "nbformat": 4,
 "nbformat_minor": 2
}
